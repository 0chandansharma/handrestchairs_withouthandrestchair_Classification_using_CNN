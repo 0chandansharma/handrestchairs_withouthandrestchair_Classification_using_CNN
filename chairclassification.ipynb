{
 "cells": [
  {
   "cell_type": "code",
   "execution_count": 41,
   "metadata": {},
   "outputs": [],
   "source": [
    "from keras.models import Sequential"
   ]
  },
  {
   "cell_type": "code",
   "execution_count": 42,
   "metadata": {},
   "outputs": [],
   "source": [
    "from keras.layers import Convolution2D"
   ]
  },
  {
   "cell_type": "code",
   "execution_count": 43,
   "metadata": {},
   "outputs": [],
   "source": [
    "from keras.layers import MaxPooling2D"
   ]
  },
  {
   "cell_type": "code",
   "execution_count": 44,
   "metadata": {},
   "outputs": [],
   "source": [
    "from keras.layers import Flatten"
   ]
  },
  {
   "cell_type": "code",
   "execution_count": 45,
   "metadata": {},
   "outputs": [],
   "source": [
    "from keras.layers import Dense"
   ]
  },
  {
   "cell_type": "code",
   "execution_count": 46,
   "metadata": {},
   "outputs": [],
   "source": [
    "#intiliaizing\n",
    "classifier = Sequential()"
   ]
  },
  {
   "cell_type": "code",
   "execution_count": 47,
   "metadata": {
    "scrolled": true
   },
   "outputs": [
    {
     "name": "stderr",
     "output_type": "stream",
     "text": [
      "C:\\Users\\chandan sharma\\Anaconda3\\lib\\site-packages\\ipykernel_launcher.py:2: UserWarning: Update your `Conv2D` call to the Keras 2 API: `Conv2D(32, (3, 3), input_shape=(64, 64, 3..., activation=\"relu\")`\n",
      "  \n"
     ]
    }
   ],
   "source": [
    "#convolution layer\n",
    "classifier.add(Convolution2D(32, 3, 3, input_shape=(64, 64, 3), activation='relu'))  #tesonrflow backend\n",
    "#32 feature detector, 3X3 diemesion fearure detector \n",
    "#(32 feature matrix convolution layer)\n",
    "#input shape = (all image are not need to be same size or format, so we convert image)\n",
    "#input shape= umber of channel and dimension"
   ]
  },
  {
   "cell_type": "code",
   "execution_count": 48,
   "metadata": {},
   "outputs": [],
   "source": [
    "# pooling\n",
    "classifier.add(MaxPooling2D(pool_size=(2, 2)))"
   ]
  },
  {
   "cell_type": "code",
   "execution_count": 49,
   "metadata": {},
   "outputs": [],
   "source": [
    "#flattening\n",
    "classifier.add(Flatten())"
   ]
  },
  {
   "cell_type": "code",
   "execution_count": 50,
   "metadata": {},
   "outputs": [
    {
     "name": "stderr",
     "output_type": "stream",
     "text": [
      "C:\\Users\\chandan sharma\\Anaconda3\\lib\\site-packages\\ipykernel_launcher.py:2: UserWarning: Update your `Dense` call to the Keras 2 API: `Dense(activation=\"relu\", units=128)`\n",
      "  \n",
      "C:\\Users\\chandan sharma\\Anaconda3\\lib\\site-packages\\ipykernel_launcher.py:3: UserWarning: Update your `Dense` call to the Keras 2 API: `Dense(activation=\"sigmoid\", units=1)`\n",
      "  This is separate from the ipykernel package so we can avoid doing imports until\n"
     ]
    }
   ],
   "source": [
    "#create classic ann for classification\n",
    "classifier.add(Dense(output_dim= 128, activation = 'relu'))\n",
    "classifier.add(Dense(output_dim= 1, activation = 'sigmoid')) #bez binary outcome"
   ]
  },
  {
   "cell_type": "code",
   "execution_count": 51,
   "metadata": {},
   "outputs": [],
   "source": [
    "#compiling CNN\n",
    "classifier.compile(optimizer= 'adam', loss = 'binary_crossentropy', metrics=['accuracy'])"
   ]
  },
  {
   "cell_type": "code",
   "execution_count": 52,
   "metadata": {},
   "outputs": [],
   "source": [
    "# Fitting the CNN to the images\n",
    "from keras.preprocessing.image import ImageDataGenerator"
   ]
  },
  {
   "cell_type": "code",
   "execution_count": 53,
   "metadata": {},
   "outputs": [],
   "source": [
    "\n",
    "train_datagen = ImageDataGenerator(\n",
    "        rescale=1./255,\n",
    "        shear_range=0.2,\n",
    "        zoom_range=0.2,\n",
    "        horizontal_flip=True)\n",
    "\n"
   ]
  },
  {
   "cell_type": "code",
   "execution_count": 54,
   "metadata": {},
   "outputs": [],
   "source": [
    "test_datagen = ImageDataGenerator(rescale=1./255)\n",
    "\n"
   ]
  },
  {
   "cell_type": "code",
   "execution_count": 55,
   "metadata": {},
   "outputs": [
    {
     "name": "stdout",
     "output_type": "stream",
     "text": [
      "Found 2362 images belonging to 2 classes.\n"
     ]
    }
   ],
   "source": [
    "training_set = train_datagen.flow_from_directory(\n",
    "        r'C:\\Users\\chandan sharma\\Desktop\\startup\\CNN\\trainset',\n",
    "        target_size=(64, 64),\n",
    "        batch_size=32,\n",
    "        class_mode='binary')\n",
    "\n"
   ]
  },
  {
   "cell_type": "code",
   "execution_count": 56,
   "metadata": {},
   "outputs": [
    {
     "name": "stdout",
     "output_type": "stream",
     "text": [
      "Found 493 images belonging to 2 classes.\n"
     ]
    }
   ],
   "source": [
    "test_set = test_datagen.flow_from_directory(\n",
    "        r'C:\\Users\\chandan sharma\\Desktop\\startup\\CNN\\testset',\n",
    "        target_size=(64, 64),\n",
    "        batch_size=32,\n",
    "        class_mode='binary')\n",
    "\n"
   ]
  },
  {
   "cell_type": "code",
   "execution_count": null,
   "metadata": {},
   "outputs": [
    {
     "name": "stdout",
     "output_type": "stream",
     "text": [
      "Epoch 1/20\n",
      "2362/2362 [==============================] - 572s 242ms/step - loss: 0.4080 - acc: 0.8173 - val_loss: 1.2803 - val_acc: 0.6489\n",
      "Epoch 2/20\n",
      "2362/2362 [==============================] - 566s 240ms/step - loss: 0.1386 - acc: 0.9482 - val_loss: 1.5094 - val_acc: 0.6707\n",
      "Epoch 3/20\n",
      "2362/2362 [==============================] - 533s 226ms/step - loss: 0.0675 - acc: 0.9770 - val_loss: 2.1812 - val_acc: 0.6679\n",
      "Epoch 4/20\n",
      "2362/2362 [==============================] - 517s 219ms/step - loss: 0.0421 - acc: 0.9861 - val_loss: 2.1481 - val_acc: 0.6656\n",
      "Epoch 5/20\n",
      "2362/2362 [==============================] - 516s 219ms/step - loss: 0.0322 - acc: 0.9897 - val_loss: 2.3680 - val_acc: 0.6838\n",
      "Epoch 6/20\n",
      "2362/2362 [==============================] - 515s 218ms/step - loss: 0.0266 - acc: 0.9912 - val_loss: 2.7380 - val_acc: 0.6615\n",
      "Epoch 7/20\n",
      "2362/2362 [==============================] - 517s 219ms/step - loss: 0.0289 - acc: 0.9907 - val_loss: 2.6578 - val_acc: 0.6676\n",
      "Epoch 8/20\n",
      "2362/2362 [==============================] - 29500s 12s/step - loss: 0.0219 - acc: 0.9928 - val_loss: 3.1586 - val_acc: 0.6548\n",
      "Epoch 9/20\n",
      "2362/2362 [==============================] - 710s 301ms/step - loss: 0.0195 - acc: 0.9939 - val_loss: 3.3084 - val_acc: 0.6629\n",
      "Epoch 10/20\n",
      "2362/2362 [==============================] - 745s 315ms/step - loss: 0.0160 - acc: 0.9953 - val_loss: 2.9239 - val_acc: 0.6672\n",
      "Epoch 11/20\n",
      "2362/2362 [==============================] - 788s 334ms/step - loss: 0.0150 - acc: 0.9951 - val_loss: 2.5898 - val_acc: 0.6777\n",
      "Epoch 12/20\n",
      "2362/2362 [==============================] - 714s 302ms/step - loss: 0.0149 - acc: 0.9953 - val_loss: 3.0307 - val_acc: 0.6814\n",
      "Epoch 13/20\n",
      "2362/2362 [==============================] - 716s 303ms/step - loss: 0.0124 - acc: 0.9963 - val_loss: 3.3969 - val_acc: 0.6716\n",
      "Epoch 14/20\n",
      "2362/2362 [==============================] - 676s 286ms/step - loss: 0.0108 - acc: 0.9968 - val_loss: 2.8060 - val_acc: 0.7027\n",
      "Epoch 15/20\n",
      "2362/2362 [==============================] - 768s 325ms/step - loss: 0.0108 - acc: 0.9966 - val_loss: 3.2140 - val_acc: 0.6933\n",
      "Epoch 16/20\n",
      "2362/2362 [==============================] - 905s 383ms/step - loss: 0.0116 - acc: 0.9966 - val_loss: 2.8542 - val_acc: 0.7162\n",
      "Epoch 17/20\n",
      "1274/2362 [===============>..............] - ETA: 6:28 - loss: 0.0096 - acc: 0.9969"
     ]
    }
   ],
   "source": [
    "classifier.fit_generator(\n",
    "        training_set,\n",
    "        steps_per_epoch=2362,\n",
    "        epochs=20,\n",
    "        validation_data=test_set,\n",
    "        validation_steps=493)"
   ]
  },
  {
   "cell_type": "code",
   "execution_count": null,
   "metadata": {},
   "outputs": [],
   "source": []
  }
 ],
 "metadata": {
  "kernelspec": {
   "display_name": "Python 3",
   "language": "python",
   "name": "python3"
  },
  "language_info": {
   "codemirror_mode": {
    "name": "ipython",
    "version": 3
   },
   "file_extension": ".py",
   "mimetype": "text/x-python",
   "name": "python",
   "nbconvert_exporter": "python",
   "pygments_lexer": "ipython3",
   "version": "3.7.3"
  }
 },
 "nbformat": 4,
 "nbformat_minor": 2
}
